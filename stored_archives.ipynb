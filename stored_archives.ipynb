{
 "cells": [
  {
   "cell_type": "markdown",
   "metadata": {},
   "source": [
    "# Stored Archive\n"
   ]
  },
  {
   "cell_type": "code",
   "execution_count": null,
   "metadata": {},
   "outputs": [],
   "source": [
    "# load a json file \"stored_archives.json\" and print the contents\n",
    "import json\n",
    "\n",
    "import ipywidgets as ipw\n",
    "\n",
    "with open('stored_archives.json') as f:\n",
    "    data = json.load(f)\n",
    "    # print(json.dumps(data, indent=4))\n",
    "# the file should contain a list of dictionaries, each dictionary should contain the following keys:\n",
    "# \"record id\" - the record id of the archive\n",
    "# \"filename\" - the filename of the archive\n",
    "# \"size\" - the size of the archive\n",
    "# \"date\" - the date the archive was created\n",
    "# \"profile\" - the profile used tx create the archive\n",
    "# a button to delete the archive\n",
    "# a button to inspect the archive\n",
    "\n",
    "table = ipw.HTML()\n",
    "\n",
    "table.value = \"\"\"\n",
    "        <style>\n",
    "            .df { border: none; }\n",
    "            .df tbody tr:nth-child(odd) { background-color: #e5e7e9; }\n",
    "            .df tbody tr:nth-child(odd):hover { background-color:   #f5b7b1; }\n",
    "            .df tbody tr:nth-child(even):hover { background-color:  #f5b7b1; }\n",
    "            .df tbody td { min-width: 150px; text-align: center; border: none }\n",
    "            .df th { text-align: center; border: none;  border-bottom: 1px solid black;}\n",
    "        </style>\n",
    "        \"\"\"\n",
    "\n",
    "# use pandas to create a dataframe from the json file, and show the dataframe\n",
    "import pandas as pd\n",
    "\n",
    "df = pd.read_json('stored_archives.json')\n",
    "# add a column to the dataframe with a button to delete the archive\n",
    "for index, row in df.iterrows():\n",
    "    group_pk = row['PK']\n",
    "    profile = row['Profile']\n",
    "    df.at[index, 'Delete'] = f\"\"\"<a href=\"/apps/apps/aiida-archive-inspect/delete.ipynb?group_pk={group_pk}&profile={profile}\" target=\"_blank\">Delete</a>\"\"\"\n",
    "    df.at[index, 'Inspect'] = f\"\"\"<a href=\"/apps/apps/aiida-archive-inspect/overview.ipynb?group_pk={group_pk}&profile={profile}\" target=\"_blank\">Inspect</a>\"\"\"\n",
    "\n",
    "table.value += df.to_html(classes=\"df\", escape=False, index=False)\n",
    "table"
   ]
  },
  {
   "cell_type": "code",
   "execution_count": null,
   "metadata": {},
   "outputs": [],
   "source": []
  }
 ],
 "metadata": {
  "kernelspec": {
   "display_name": "Python 3 (ipykernel)",
   "language": "python",
   "name": "python3"
  },
  "language_info": {
   "codemirror_mode": {
    "name": "ipython",
    "version": 3
   },
   "file_extension": ".py",
   "mimetype": "text/x-python",
   "name": "python",
   "nbconvert_exporter": "python",
   "pygments_lexer": "ipython3",
   "version": "3.9.13"
  }
 },
 "nbformat": 4,
 "nbformat_minor": 2
}
