{
 "cells": [
  {
   "cell_type": "markdown",
   "metadata": {},
   "source": [
    "# AiiDA Archive inspect\n",
    "Inport and and inspect a AiiDA archive file from Materials Cloud Archive. \n",
    "\n"
   ]
  },
  {
   "cell_type": "code",
   "execution_count": null,
   "metadata": {},
   "outputs": [],
   "source": [
    "import json\n",
    "import urllib.parse as urlparse\n",
    "\n",
    "from aiida import load_profile, orm\n",
    "from aiida.tools import delete_group_nodes\n",
    "\n",
    "url = urlparse.urlsplit(jupyter_notebook_url) # noqa F821\n",
    "query = urlparse.parse_qs(url.query)\n",
    "group_pk = int(query['group_pk'][0])\n",
    "profile = query['profile'][0]\n",
    "\n",
    "\n",
    "def delete_group(group_pk):\n",
    "    load_profile(profile)\n",
    "    ## delete the group\n",
    "    _, nodes_deleted = delete_group_nodes([group_pk], dry_run=False)\n",
    "    if nodes_deleted:\n",
    "        orm.Group.collection.delete(group_pk)\n",
    "\n",
    "    # delete the entry in the stored_archives.json file\n",
    "    with open('stored_archives.json') as f:\n",
    "        stored_archives = json.load(f)\n",
    "        # loop over the stored archives and remove the one with the group_pk\n",
    "        for i, archive in enumerate(stored_archives):\n",
    "            if archive['PK'] == group_pk:\n",
    "                del stored_archives[i]\n",
    "                break\n",
    "    with open('stored_archives.json', 'w') as f:\n",
    "        json.dump(stored_archives, f)\n",
    "\n",
    "    print(f'Group {group_pk} deleted.')\n",
    "\n",
    "\n",
    "delete_group(group_pk)"
   ]
  }
 ],
 "metadata": {
  "kernelspec": {
   "display_name": "Python 3 (ipykernel)",
   "language": "python",
   "name": "python3"
  },
  "language_info": {
   "codemirror_mode": {
    "name": "ipython",
    "version": 3
   },
   "file_extension": ".py",
   "mimetype": "text/x-python",
   "name": "python",
   "nbconvert_exporter": "python",
   "pygments_lexer": "ipython3",
   "version": "3.9.13"
  }
 },
 "nbformat": 4,
 "nbformat_minor": 2
}
