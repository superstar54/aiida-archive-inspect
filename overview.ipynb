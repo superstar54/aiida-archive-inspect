{
 "cells": [
  {
   "cell_type": "markdown",
   "metadata": {},
   "source": [
    "# Overview of the archive"
   ]
  },
  {
   "cell_type": "code",
   "execution_count": null,
   "metadata": {},
   "outputs": [],
   "source": [
    "%%capture\n",
    "import urllib.parse as urlparse\n",
    "\n",
    "import ipywidgets as ipw\n",
    "from aiida import load_profile, orm\n",
    "\n",
    "from aiida_archive_inspect.utils import generate_table, get_user_path_and_mode\n",
    "\n",
    "url = urlparse.urlsplit(jupyter_notebook_url) # noqa F821\n",
    "\n",
    "query = urlparse.parse_qs(url.query)\n",
    "group_pk = int(query['group_pk'][0])\n",
    "profile = query['profile'][0]\n",
    "load_profile(profile)"
   ]
  },
  {
   "cell_type": "code",
   "execution_count": null,
   "metadata": {},
   "outputs": [],
   "source": [
    "user_path, mode = get_user_path_and_mode(url.path)\n",
    "group = orm.load_group(group_pk)\n",
    "table = generate_table(group)\n",
    "# create a button to open another jupyter-notebook\n",
    "# this will open a new tab in the browser with a new url\n",
    "# the url will only contain the group pk\n",
    "open_notebook = ipw.HTML(f\"\"\"\n",
    "<a href=\"{user_path}/notebooks/apps/aiida-archive-inspect/detail.ipynb?group_pk={group_pk}&profile={profile}\" target=\"_blank\">\n",
    "    <button>Inspect the archive in detail</button>\n",
    "</a>\n",
    "\"\"\")\n",
    "ipw.VBox([table, open_notebook])"
   ]
  }
 ],
 "metadata": {
  "kernelspec": {
   "display_name": "Python 3 (ipykernel)",
   "language": "python",
   "name": "python3"
  },
  "language_info": {
   "codemirror_mode": {
    "name": "ipython",
    "version": 3
   },
   "file_extension": ".py",
   "mimetype": "text/x-python",
   "name": "python",
   "nbconvert_exporter": "python",
   "pygments_lexer": "ipython3",
   "version": "3.9.13"
  }
 },
 "nbformat": 4,
 "nbformat_minor": 2
}
