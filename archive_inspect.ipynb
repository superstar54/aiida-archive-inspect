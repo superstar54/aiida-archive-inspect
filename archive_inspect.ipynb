{
 "cells": [
  {
   "cell_type": "markdown",
   "metadata": {},
   "source": [
    "# AiiDA Archive inspect\n",
    "Inport and and inspect a AiiDA archive file from Materials Cloud Archive. \n",
    "\n",
    "The is url of a archive file from Materials Cloud Archive.\n",
    "https://archive.materialscloud.org/record/file?filename=export_PdTe_11_12_KKR.aiida&record_id=1801\n",
    "\n",
    "\n",
    "http://localhost:8894/apps/apps/aiida-archive-inspect/archive_inspect.ipynb?file=export_PdTe_11_12_KKR.aiida&record_id=1801&appmode_scroll=0"
   ]
  },
  {
   "cell_type": "code",
   "execution_count": null,
   "metadata": {},
   "outputs": [],
   "source": []
  },
  {
   "cell_type": "code",
   "execution_count": null,
   "metadata": {},
   "outputs": [],
   "source": [
    "import urllib.parse as urlparse\n",
    "\n",
    "# import ipywidgets as ipw\n",
    "from aiida import load_profile\n",
    "\n",
    "from aiida_archive_inspect.utils import import_mc_archive\n",
    "\n",
    "load_profile()\n",
    "\n",
    "url = urlparse.urlsplit(jupyter_notebook_url) # noqa F821\n",
    "query = urlparse.parse_qs(url.query)\n",
    "try:\n",
    "    filename = query[\"file\"][0]\n",
    "except KeyError:\n",
    "    raise ValueError(\"No file parameter found in the URL\")\n",
    "try:\n",
    "    record_id = query[\"record_id\"][0]\n",
    "except KeyError:\n",
    "    raise ValueError(\"No record_id parameter found in the URL\")\n",
    "\n",
    "\n",
    "group_id = import_mc_archive(filename, record_id)"
   ]
  },
  {
   "cell_type": "code",
   "execution_count": null,
   "metadata": {},
   "outputs": [],
   "source": [
    "## Load the group"
   ]
  },
  {
   "cell_type": "code",
   "execution_count": null,
   "metadata": {},
   "outputs": [],
   "source": [
    "# create a button to open another jupyter-notebook \n"
   ]
  }
 ],
 "metadata": {
  "kernelspec": {
   "display_name": "Python 3 (ipykernel)",
   "language": "python",
   "name": "python3"
  },
  "language_info": {
   "codemirror_mode": {
    "name": "ipython",
    "version": 3
   },
   "file_extension": ".py",
   "mimetype": "text/x-python",
   "name": "python",
   "nbconvert_exporter": "python",
   "pygments_lexer": "ipython3",
   "version": "3.8.10"
  }
 },
 "nbformat": 4,
 "nbformat_minor": 2
}
